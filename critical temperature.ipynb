{
 "cells": [
  {
   "cell_type": "markdown",
   "metadata": {},
   "source": [
    "# Олимпиада: Я - профессионал 2020\n",
    "## Секция - Машинное обучение\n",
    "### Отборочный этап\n",
    "#### Задача №2\n",
    "Из-за сильнейшего ливня в лаборатории квантовой механики произошёл потоп, вследствие чего она была закрыта на срочный ремонт. Однако учёные привыкли доводить все свои дела до конца, и ждать пока закончится ремонт были не намерены. Перед ними стояла задача определить критические температуры для сверхпроводников, созданных на основе различных химических элементов. Однако никаких привычных лабораторных приспособлений для этого не имелось, существовала только информация о характеристиках каждого из сверхпроводников и химические формулы сверхпроводников, которую им подсказали ученые-химики из соседней лаборатории. В поисках решения они решили изучить новейшие технологии в области анализа данных и обнаружили, что им может помочь машинное обучение. Помогите учёным-физикам, не имеющим опыта в решении задач машинного обучения, определить критические температуры всех сверхпроводников используя их характеристики и химический состав. Для обучения моделей необходимо воспользоваться информацией о сверхпроводниках, для которых ученые успели получить критическую температуру (train.csv). Возможно сделать предсказание более эффективным вам поможет химическая формула для каждого из сверхпроводников (formula_train.csv). Целевым полем является поле critical_temperature. Ваша задача для недостающих соединений (test.csv) предсказать поле critical_temperature и в качестве ответа загрузить файл answer.csv, где будет одна колонка с предсказанием (без заголовка колонки).\n",
    "\n",
    "Выходные данные: вам следует загрузить файл answer.csv, где будет одна колонка с предсказанием поля critical_temperature для файла test.csv (без заголовка колонки)."
   ]
  },
  {
   "cell_type": "code",
   "execution_count": 65,
   "metadata": {},
   "outputs": [],
   "source": [
    "import numpy as np\n",
    "import scipy as sp\n",
    "import pandas as pd\n",
    "import seaborn as sns\n",
    "import matplotlib.pyplot as plt\n",
    "import matplotlib as mpl\n",
    "from sklearn.linear_model import LinearRegression"
   ]
  },
  {
   "cell_type": "code",
   "execution_count": 66,
   "metadata": {},
   "outputs": [
    {
     "data": {
      "text/html": [
       "<div>\n",
       "<style scoped>\n",
       "    .dataframe tbody tr th:only-of-type {\n",
       "        vertical-align: middle;\n",
       "    }\n",
       "\n",
       "    .dataframe tbody tr th {\n",
       "        vertical-align: top;\n",
       "    }\n",
       "\n",
       "    .dataframe thead th {\n",
       "        text-align: right;\n",
       "    }\n",
       "</style>\n",
       "<table border=\"1\" class=\"dataframe\">\n",
       "  <thead>\n",
       "    <tr style=\"text-align: right;\">\n",
       "      <th></th>\n",
       "      <th>feature1</th>\n",
       "      <th>feature2</th>\n",
       "      <th>feature3</th>\n",
       "      <th>feature4</th>\n",
       "      <th>feature5</th>\n",
       "      <th>feature6</th>\n",
       "      <th>feature7</th>\n",
       "      <th>feature8</th>\n",
       "      <th>feature9</th>\n",
       "      <th>feature10</th>\n",
       "      <th>...</th>\n",
       "      <th>feature73</th>\n",
       "      <th>feature74</th>\n",
       "      <th>feature75</th>\n",
       "      <th>feature76</th>\n",
       "      <th>feature77</th>\n",
       "      <th>feature78</th>\n",
       "      <th>feature79</th>\n",
       "      <th>feature80</th>\n",
       "      <th>feature81</th>\n",
       "      <th>critical_temperature</th>\n",
       "    </tr>\n",
       "  </thead>\n",
       "  <tbody>\n",
       "    <tr>\n",
       "      <th>0</th>\n",
       "      <td>4</td>\n",
       "      <td>95.950150</td>\n",
       "      <td>87.221940</td>\n",
       "      <td>89.534122</td>\n",
       "      <td>81.423258</td>\n",
       "      <td>1.317590</td>\n",
       "      <td>1.301059</td>\n",
       "      <td>96.1190</td>\n",
       "      <td>20.285800</td>\n",
       "      <td>36.105357</td>\n",
       "      <td>...</td>\n",
       "      <td>4.10</td>\n",
       "      <td>4.053600</td>\n",
       "      <td>3.944244</td>\n",
       "      <td>1.339718</td>\n",
       "      <td>1.245504</td>\n",
       "      <td>3</td>\n",
       "      <td>1.400000</td>\n",
       "      <td>1.299038</td>\n",
       "      <td>1.135782</td>\n",
       "      <td>21.50</td>\n",
       "    </tr>\n",
       "    <tr>\n",
       "      <th>1</th>\n",
       "      <td>5</td>\n",
       "      <td>83.244760</td>\n",
       "      <td>59.224400</td>\n",
       "      <td>59.506081</td>\n",
       "      <td>36.126175</td>\n",
       "      <td>1.311510</td>\n",
       "      <td>1.372050</td>\n",
       "      <td>192.9810</td>\n",
       "      <td>25.192187</td>\n",
       "      <td>67.233835</td>\n",
       "      <td>...</td>\n",
       "      <td>2.40</td>\n",
       "      <td>2.402249</td>\n",
       "      <td>2.259897</td>\n",
       "      <td>1.519383</td>\n",
       "      <td>1.365077</td>\n",
       "      <td>3</td>\n",
       "      <td>0.933333</td>\n",
       "      <td>1.200000</td>\n",
       "      <td>1.019804</td>\n",
       "      <td>62.00</td>\n",
       "    </tr>\n",
       "    <tr>\n",
       "      <th>2</th>\n",
       "      <td>2</td>\n",
       "      <td>23.035850</td>\n",
       "      <td>26.647510</td>\n",
       "      <td>21.192566</td>\n",
       "      <td>25.010514</td>\n",
       "      <td>0.614232</td>\n",
       "      <td>0.435817</td>\n",
       "      <td>18.0583</td>\n",
       "      <td>18.243490</td>\n",
       "      <td>9.029150</td>\n",
       "      <td>...</td>\n",
       "      <td>5.10</td>\n",
       "      <td>4.242641</td>\n",
       "      <td>4.873514</td>\n",
       "      <td>0.636514</td>\n",
       "      <td>0.465999</td>\n",
       "      <td>3</td>\n",
       "      <td>3.300000</td>\n",
       "      <td>1.500000</td>\n",
       "      <td>1.374773</td>\n",
       "      <td>0.29</td>\n",
       "    </tr>\n",
       "    <tr>\n",
       "      <th>3</th>\n",
       "      <td>4</td>\n",
       "      <td>81.756699</td>\n",
       "      <td>79.833804</td>\n",
       "      <td>76.282833</td>\n",
       "      <td>75.275775</td>\n",
       "      <td>1.312596</td>\n",
       "      <td>1.149324</td>\n",
       "      <td>81.4820</td>\n",
       "      <td>28.789976</td>\n",
       "      <td>32.890369</td>\n",
       "      <td>...</td>\n",
       "      <td>3.62</td>\n",
       "      <td>3.309751</td>\n",
       "      <td>3.413039</td>\n",
       "      <td>1.333736</td>\n",
       "      <td>1.019322</td>\n",
       "      <td>3</td>\n",
       "      <td>1.920000</td>\n",
       "      <td>1.118034</td>\n",
       "      <td>1.198165</td>\n",
       "      <td>19.50</td>\n",
       "    </tr>\n",
       "    <tr>\n",
       "      <th>4</th>\n",
       "      <td>2</td>\n",
       "      <td>67.485250</td>\n",
       "      <td>69.699016</td>\n",
       "      <td>57.442709</td>\n",
       "      <td>59.574464</td>\n",
       "      <td>0.548263</td>\n",
       "      <td>0.521345</td>\n",
       "      <td>70.8405</td>\n",
       "      <td>39.638078</td>\n",
       "      <td>35.420250</td>\n",
       "      <td>...</td>\n",
       "      <td>6.00</td>\n",
       "      <td>6.000000</td>\n",
       "      <td>6.000000</td>\n",
       "      <td>0.693147</td>\n",
       "      <td>0.691193</td>\n",
       "      <td>0</td>\n",
       "      <td>0.375000</td>\n",
       "      <td>0.000000</td>\n",
       "      <td>0.000000</td>\n",
       "      <td>5.36</td>\n",
       "    </tr>\n",
       "  </tbody>\n",
       "</table>\n",
       "<p>5 rows × 82 columns</p>\n",
       "</div>"
      ],
      "text/plain": [
       "   feature1   feature2   feature3   feature4   feature5  feature6  feature7  \\\n",
       "0         4  95.950150  87.221940  89.534122  81.423258  1.317590  1.301059   \n",
       "1         5  83.244760  59.224400  59.506081  36.126175  1.311510  1.372050   \n",
       "2         2  23.035850  26.647510  21.192566  25.010514  0.614232  0.435817   \n",
       "3         4  81.756699  79.833804  76.282833  75.275775  1.312596  1.149324   \n",
       "4         2  67.485250  69.699016  57.442709  59.574464  0.548263  0.521345   \n",
       "\n",
       "   feature8   feature9  feature10          ...           feature73  feature74  \\\n",
       "0   96.1190  20.285800  36.105357          ...                4.10   4.053600   \n",
       "1  192.9810  25.192187  67.233835          ...                2.40   2.402249   \n",
       "2   18.0583  18.243490   9.029150          ...                5.10   4.242641   \n",
       "3   81.4820  28.789976  32.890369          ...                3.62   3.309751   \n",
       "4   70.8405  39.638078  35.420250          ...                6.00   6.000000   \n",
       "\n",
       "   feature75  feature76  feature77  feature78  feature79  feature80  \\\n",
       "0   3.944244   1.339718   1.245504          3   1.400000   1.299038   \n",
       "1   2.259897   1.519383   1.365077          3   0.933333   1.200000   \n",
       "2   4.873514   0.636514   0.465999          3   3.300000   1.500000   \n",
       "3   3.413039   1.333736   1.019322          3   1.920000   1.118034   \n",
       "4   6.000000   0.693147   0.691193          0   0.375000   0.000000   \n",
       "\n",
       "   feature81  critical_temperature  \n",
       "0   1.135782                 21.50  \n",
       "1   1.019804                 62.00  \n",
       "2   1.374773                  0.29  \n",
       "3   1.198165                 19.50  \n",
       "4   0.000000                  5.36  \n",
       "\n",
       "[5 rows x 82 columns]"
      ]
     },
     "execution_count": 66,
     "metadata": {},
     "output_type": "execute_result"
    }
   ],
   "source": [
    "data = pd.read_csv('D:\\\\DataMining\\\\critical_temperature\\\\train.csv')\n",
    "data.head()"
   ]
  },
  {
   "cell_type": "code",
   "execution_count": 67,
   "metadata": {},
   "outputs": [
    {
     "data": {
      "text/plain": [
       "(17000, 82)"
      ]
     },
     "execution_count": 67,
     "metadata": {},
     "output_type": "execute_result"
    }
   ],
   "source": [
    "data.shape"
   ]
  },
  {
   "cell_type": "code",
   "execution_count": 68,
   "metadata": {},
   "outputs": [
    {
     "data": {
      "text/html": [
       "<div>\n",
       "<style scoped>\n",
       "    .dataframe tbody tr th:only-of-type {\n",
       "        vertical-align: middle;\n",
       "    }\n",
       "\n",
       "    .dataframe tbody tr th {\n",
       "        vertical-align: top;\n",
       "    }\n",
       "\n",
       "    .dataframe thead th {\n",
       "        text-align: right;\n",
       "    }\n",
       "</style>\n",
       "<table border=\"1\" class=\"dataframe\">\n",
       "  <thead>\n",
       "    <tr style=\"text-align: right;\">\n",
       "      <th></th>\n",
       "      <th>H</th>\n",
       "      <th>He</th>\n",
       "      <th>Li</th>\n",
       "      <th>Be</th>\n",
       "      <th>B</th>\n",
       "      <th>C</th>\n",
       "      <th>N</th>\n",
       "      <th>O</th>\n",
       "      <th>F</th>\n",
       "      <th>Ne</th>\n",
       "      <th>...</th>\n",
       "      <th>Pt</th>\n",
       "      <th>Au</th>\n",
       "      <th>Hg</th>\n",
       "      <th>Tl</th>\n",
       "      <th>Pb</th>\n",
       "      <th>Bi</th>\n",
       "      <th>Po</th>\n",
       "      <th>At</th>\n",
       "      <th>Rn</th>\n",
       "      <th>material</th>\n",
       "    </tr>\n",
       "  </thead>\n",
       "  <tbody>\n",
       "    <tr>\n",
       "      <th>0</th>\n",
       "      <td>0.0</td>\n",
       "      <td>0</td>\n",
       "      <td>0.0</td>\n",
       "      <td>0.0</td>\n",
       "      <td>0.0</td>\n",
       "      <td>0.0</td>\n",
       "      <td>0.0</td>\n",
       "      <td>0.0</td>\n",
       "      <td>0.0</td>\n",
       "      <td>0</td>\n",
       "      <td>...</td>\n",
       "      <td>0.0</td>\n",
       "      <td>0.0</td>\n",
       "      <td>0.0</td>\n",
       "      <td>0.0</td>\n",
       "      <td>0.0</td>\n",
       "      <td>0.0</td>\n",
       "      <td>0</td>\n",
       "      <td>0</td>\n",
       "      <td>0</td>\n",
       "      <td>Eu1Fe1.5Ru0.5As2</td>\n",
       "    </tr>\n",
       "    <tr>\n",
       "      <th>1</th>\n",
       "      <td>0.0</td>\n",
       "      <td>0</td>\n",
       "      <td>0.0</td>\n",
       "      <td>0.0</td>\n",
       "      <td>0.0</td>\n",
       "      <td>0.0</td>\n",
       "      <td>0.0</td>\n",
       "      <td>8.0</td>\n",
       "      <td>0.0</td>\n",
       "      <td>0</td>\n",
       "      <td>...</td>\n",
       "      <td>0.0</td>\n",
       "      <td>0.0</td>\n",
       "      <td>0.0</td>\n",
       "      <td>0.0</td>\n",
       "      <td>0.0</td>\n",
       "      <td>2.0</td>\n",
       "      <td>0</td>\n",
       "      <td>0</td>\n",
       "      <td>0</td>\n",
       "      <td>Bi2Sr2Ca1Cu2O8</td>\n",
       "    </tr>\n",
       "    <tr>\n",
       "      <th>2</th>\n",
       "      <td>0.0</td>\n",
       "      <td>0</td>\n",
       "      <td>0.0</td>\n",
       "      <td>0.0</td>\n",
       "      <td>0.0</td>\n",
       "      <td>0.0</td>\n",
       "      <td>0.3</td>\n",
       "      <td>0.0</td>\n",
       "      <td>0.0</td>\n",
       "      <td>0</td>\n",
       "      <td>...</td>\n",
       "      <td>0.0</td>\n",
       "      <td>0.0</td>\n",
       "      <td>0.0</td>\n",
       "      <td>0.0</td>\n",
       "      <td>0.0</td>\n",
       "      <td>0.0</td>\n",
       "      <td>0</td>\n",
       "      <td>0</td>\n",
       "      <td>0</td>\n",
       "      <td>N0.3S0.7</td>\n",
       "    </tr>\n",
       "    <tr>\n",
       "      <th>3</th>\n",
       "      <td>0.0</td>\n",
       "      <td>0</td>\n",
       "      <td>0.0</td>\n",
       "      <td>0.0</td>\n",
       "      <td>0.0</td>\n",
       "      <td>0.0</td>\n",
       "      <td>0.0</td>\n",
       "      <td>0.0</td>\n",
       "      <td>0.0</td>\n",
       "      <td>0</td>\n",
       "      <td>...</td>\n",
       "      <td>0.0</td>\n",
       "      <td>0.0</td>\n",
       "      <td>0.0</td>\n",
       "      <td>0.0</td>\n",
       "      <td>0.0</td>\n",
       "      <td>0.0</td>\n",
       "      <td>0</td>\n",
       "      <td>0</td>\n",
       "      <td>0</td>\n",
       "      <td>Ba1Fe1.9Co0.1As2</td>\n",
       "    </tr>\n",
       "    <tr>\n",
       "      <th>4</th>\n",
       "      <td>0.0</td>\n",
       "      <td>0</td>\n",
       "      <td>0.0</td>\n",
       "      <td>0.0</td>\n",
       "      <td>0.0</td>\n",
       "      <td>0.0</td>\n",
       "      <td>0.0</td>\n",
       "      <td>0.0</td>\n",
       "      <td>0.0</td>\n",
       "      <td>0</td>\n",
       "      <td>...</td>\n",
       "      <td>0.0</td>\n",
       "      <td>0.0</td>\n",
       "      <td>0.0</td>\n",
       "      <td>0.0</td>\n",
       "      <td>0.0</td>\n",
       "      <td>0.0</td>\n",
       "      <td>0</td>\n",
       "      <td>0</td>\n",
       "      <td>0</td>\n",
       "      <td>Rh17S15</td>\n",
       "    </tr>\n",
       "  </tbody>\n",
       "</table>\n",
       "<p>5 rows × 87 columns</p>\n",
       "</div>"
      ],
      "text/plain": [
       "     H  He   Li   Be    B    C    N    O    F  Ne        ...          Pt   Au  \\\n",
       "0  0.0   0  0.0  0.0  0.0  0.0  0.0  0.0  0.0   0        ...         0.0  0.0   \n",
       "1  0.0   0  0.0  0.0  0.0  0.0  0.0  8.0  0.0   0        ...         0.0  0.0   \n",
       "2  0.0   0  0.0  0.0  0.0  0.0  0.3  0.0  0.0   0        ...         0.0  0.0   \n",
       "3  0.0   0  0.0  0.0  0.0  0.0  0.0  0.0  0.0   0        ...         0.0  0.0   \n",
       "4  0.0   0  0.0  0.0  0.0  0.0  0.0  0.0  0.0   0        ...         0.0  0.0   \n",
       "\n",
       "    Hg   Tl   Pb   Bi  Po  At  Rn          material  \n",
       "0  0.0  0.0  0.0  0.0   0   0   0  Eu1Fe1.5Ru0.5As2  \n",
       "1  0.0  0.0  0.0  2.0   0   0   0    Bi2Sr2Ca1Cu2O8  \n",
       "2  0.0  0.0  0.0  0.0   0   0   0          N0.3S0.7  \n",
       "3  0.0  0.0  0.0  0.0   0   0   0  Ba1Fe1.9Co0.1As2  \n",
       "4  0.0  0.0  0.0  0.0   0   0   0           Rh17S15  \n",
       "\n",
       "[5 rows x 87 columns]"
      ]
     },
     "execution_count": 68,
     "metadata": {},
     "output_type": "execute_result"
    }
   ],
   "source": [
    "data_formula = pd.read_csv('D:\\\\DataMining\\\\critical_temperature\\\\formula_train.csv')\n",
    "data_formula.head()"
   ]
  },
  {
   "cell_type": "code",
   "execution_count": 69,
   "metadata": {},
   "outputs": [
    {
     "data": {
      "text/html": [
       "<div>\n",
       "<style scoped>\n",
       "    .dataframe tbody tr th:only-of-type {\n",
       "        vertical-align: middle;\n",
       "    }\n",
       "\n",
       "    .dataframe tbody tr th {\n",
       "        vertical-align: top;\n",
       "    }\n",
       "\n",
       "    .dataframe thead th {\n",
       "        text-align: right;\n",
       "    }\n",
       "</style>\n",
       "<table border=\"1\" class=\"dataframe\">\n",
       "  <thead>\n",
       "    <tr style=\"text-align: right;\">\n",
       "      <th></th>\n",
       "      <th>Bi</th>\n",
       "      <th>Sr</th>\n",
       "      <th>Ca</th>\n",
       "      <th>Cu</th>\n",
       "      <th>O</th>\n",
       "      <th>N</th>\n",
       "      <th>S</th>\n",
       "    </tr>\n",
       "  </thead>\n",
       "  <tbody>\n",
       "    <tr>\n",
       "      <th>1</th>\n",
       "      <td>2.0</td>\n",
       "      <td>2.0</td>\n",
       "      <td>1.0</td>\n",
       "      <td>2.0</td>\n",
       "      <td>8.0</td>\n",
       "      <td>0.0</td>\n",
       "      <td>0.0</td>\n",
       "    </tr>\n",
       "    <tr>\n",
       "      <th>2</th>\n",
       "      <td>0.0</td>\n",
       "      <td>0.0</td>\n",
       "      <td>0.0</td>\n",
       "      <td>0.0</td>\n",
       "      <td>0.0</td>\n",
       "      <td>0.3</td>\n",
       "      <td>0.7</td>\n",
       "    </tr>\n",
       "  </tbody>\n",
       "</table>\n",
       "</div>"
      ],
      "text/plain": [
       "    Bi   Sr   Ca   Cu    O    N    S\n",
       "1  2.0  2.0  1.0  2.0  8.0  0.0  0.0\n",
       "2  0.0  0.0  0.0  0.0  0.0  0.3  0.7"
      ]
     },
     "execution_count": 69,
     "metadata": {},
     "output_type": "execute_result"
    }
   ],
   "source": [
    "data_formula[['Bi', 'Sr', 'Ca', 'Cu','O','N','S']][1:3]"
   ]
  },
  {
   "cell_type": "code",
   "execution_count": 70,
   "metadata": {},
   "outputs": [
    {
     "data": {
      "text/plain": [
       "(17000, 87)"
      ]
     },
     "execution_count": 70,
     "metadata": {},
     "output_type": "execute_result"
    }
   ],
   "source": [
    "data_formula.shape"
   ]
  },
  {
   "cell_type": "code",
   "execution_count": 16,
   "metadata": {},
   "outputs": [
    {
     "data": {
      "text/plain": [
       "<seaborn.axisgrid.PairGrid at 0xba78770>"
      ]
     },
     "execution_count": 16,
     "metadata": {},
     "output_type": "execute_result"
    },
    {
     "data": {
      "image/png": "[encoded data removed]",
      "text/plain": [
       "<Figure size 1080x1080 with 42 Axes>"
      ]
     },
     "metadata": {
      "needs_background": "light"
     },
     "output_type": "display_data"
    }
   ],
   "source": [
    "g = sns.PairGrid(data[['feature1','feature2','feature3','feature4','feature5', 'critical_temperature']])\n",
    "g.map_diag(plt.hist)\n",
    "g.map_upper(plt.scatter)\n",
    "g.map_lower(sns.kdeplot)"
   ]
  },
  {
   "cell_type": "code",
   "execution_count": 71,
   "metadata": {},
   "outputs": [],
   "source": [
    "from sklearn.decomposition import PCA\n",
    "from scipy import stats\n",
    "\n",
    "target = data['critical_temperature']\n",
    "del data['critical_temperature']"
   ]
  },
  {
   "cell_type": "code",
   "execution_count": 72,
   "metadata": {},
   "outputs": [
    {
     "data": {
      "text/plain": [
       "array([[-0.07807778,  0.28060129,  0.42127643, ..., -0.08494918,\n",
       "         0.94649974,  1.00990396],\n",
       "       [ 0.6179486 , -0.14746072, -0.41240245, ..., -0.56100236,\n",
       "         0.74232014,  0.75573515],\n",
       "       [-1.47013054, -2.17598146, -1.38244   , ...,  1.85326737,\n",
       "         1.36080813,  1.53366011],\n",
       "       ...,\n",
       "       [-1.47013054,  1.95505739,  3.2230427 , ...,  3.38343832,\n",
       "        -1.73163181, -1.47919618],\n",
       "       [-0.07807778,  0.14104995, -0.48397603, ..., -0.6749004 ,\n",
       "        -0.83892129, -0.88958173],\n",
       "       [ 0.6179486 , -0.37830699,  0.20210327, ...,  0.51242956,\n",
       "         0.37082307,  1.14346342]])"
      ]
     },
     "execution_count": 72,
     "metadata": {},
     "output_type": "execute_result"
    }
   ],
   "source": [
    "x = stats.zscore(data, ddof = 1)\n",
    "x"
   ]
  },
  {
   "cell_type": "code",
   "execution_count": 73,
   "metadata": {},
   "outputs": [
    {
     "name": "stdout",
     "output_type": "stream",
     "text": [
      "X explained ratio:  [3.89458126e-01 1.04258841e-01 9.48066643e-02 7.92934076e-02\n",
      " 5.90840248e-02 3.78844284e-02 3.61699635e-02 3.11413253e-02\n",
      " 2.33642880e-02 1.99453078e-02 1.84026132e-02 1.47211337e-02\n",
      " 1.17414179e-02 1.01151555e-02 9.96514162e-03 7.73142743e-03\n",
      " 7.20895970e-03 5.45937595e-03 4.83269527e-03 3.82698501e-03\n",
      " 3.01690384e-03 2.88536274e-03 2.55236087e-03 2.06732579e-03\n",
      " 1.95453943e-03 1.83609102e-03 1.70537454e-03 1.44484232e-03\n",
      " 1.27268925e-03 1.15987350e-03 1.01416707e-03 9.59011756e-04\n",
      " 9.18265044e-04 7.13872331e-04 6.75984786e-04 6.29430591e-04\n",
      " 5.65830295e-04 4.91382956e-04 4.32856832e-04 4.24068490e-04\n",
      " 3.24863720e-04 3.05694787e-04 2.57888866e-04 2.33889814e-04\n",
      " 2.23415112e-04 2.14409637e-04 1.99669401e-04 1.88057521e-04\n",
      " 1.81139809e-04 1.74303085e-04 1.57324730e-04 1.53787019e-04\n",
      " 1.27325455e-04 1.19154357e-04 1.16880076e-04 1.05035326e-04\n",
      " 8.94845771e-05 8.02612739e-05 7.93156556e-05 7.04299571e-05\n",
      " 6.43054011e-05 5.63755158e-05 4.39884252e-05 4.33344003e-05\n",
      " 3.88371426e-05 3.52243521e-05 3.14436792e-05 2.81218569e-05\n",
      " 2.26129263e-05 2.06321440e-05 1.80900556e-05 1.68985682e-05\n",
      " 1.47597634e-05 9.19786252e-06 7.54185169e-06 5.43861077e-06\n",
      " 4.07913603e-06 2.31717894e-06 1.45394889e-06 8.96472950e-07\n",
      " 6.05168367e-07]\n"
     ]
    },
    {
     "data": {
      "image/png": "[encoded data removed]",
      "text/plain": [
       "<Figure size 432x288 with 1 Axes>"
      ]
     },
     "metadata": {
      "needs_background": "light"
     },
     "output_type": "display_data"
    }
   ],
   "source": [
    "pca = PCA(svd_solver='full')\n",
    "pca.fit(x)\n",
    "print('X explained ratio: ', pca.explained_variance_ratio_)\n",
    "\n",
    "var_cumsum = np.cumsum(pca.explained_variance_ratio_)\n",
    "plt.plot(range(0, 82), np.append(0, var_cumsum), marker='o', color=\"red\")\n",
    "plt.grid()\n",
    "plt.show()"
   ]
  },
  {
   "cell_type": "code",
   "execution_count": 84,
   "metadata": {},
   "outputs": [
    {
     "name": "stdout",
     "output_type": "stream",
     "text": [
      "X explained ratio:  [0.38945813 0.10425884 0.09480666 0.07929341 0.05908402 0.03788443\n",
      " 0.03616996 0.03114133 0.02336429 0.01994531 0.01840261 0.01472113\n",
      " 0.01174142 0.01011516 0.00996514 0.00773143 0.00720896 0.00545938\n",
      " 0.0048327  0.00382699 0.0030169  0.00288536 0.00255236 0.00206733\n",
      " 0.00195454 0.00183609 0.00170537 0.00144484 0.00127269 0.00115987]\n"
     ]
    },
    {
     "data": {
      "image/png": "[encoded data removed]",
      "text/plain": [
       "<Figure size 432x288 with 1 Axes>"
      ]
     },
     "metadata": {
      "needs_background": "light"
     },
     "output_type": "display_data"
    }
   ],
   "source": [
    "pca = PCA(svd_solver='full', n_components = 30)\n",
    "pca.fit(x)\n",
    "print('X explained ratio: ', pca.explained_variance_ratio_)\n",
    "\n",
    "var_cumsum = np.cumsum(pca.explained_variance_ratio_)\n",
    "plt.plot(range(0, 31), np.append(0, var_cumsum), marker='o', color=\"red\")\n",
    "plt.grid()\n",
    "plt.show()"
   ]
  },
  {
   "cell_type": "code",
   "execution_count": 85,
   "metadata": {},
   "outputs": [
    {
     "data": {
      "text/plain": [
       "array([[ 2.19284630e+00, -2.40884697e+00,  3.18019658e+00, ...,\n",
       "        -3.58878594e-01, -4.09789393e-02,  1.67770299e-01],\n",
       "       [-5.23157155e+00, -2.06886512e-01,  3.42341056e-01, ...,\n",
       "        -1.18083185e-01, -2.76265971e-02,  4.84167111e-04],\n",
       "       [ 3.17976280e+00,  1.01451031e+01, -1.00825939e+00, ...,\n",
       "         4.88592331e-01,  1.13105268e+00,  5.70309994e-01],\n",
       "       ...,\n",
       "       [ 1.46008244e+01, -4.64637858e+00,  4.52348436e-01, ...,\n",
       "         1.89610737e-01, -8.93146962e-01, -8.20508928e-01],\n",
       "       [-4.20157407e+00,  4.72053481e-01, -2.93806750e+00, ...,\n",
       "         1.21820536e-01, -9.39553026e-03,  6.34057765e-02],\n",
       "       [ 1.53560216e+00, -2.33285454e+00,  2.04122465e+00, ...,\n",
       "        -2.63956132e-01,  5.89792764e-02, -1.02340079e-01]])"
      ]
     },
     "execution_count": 85,
     "metadata": {},
     "output_type": "execute_result"
    }
   ],
   "source": [
    "x_pca = pca.transform(x)\n",
    "x_pca"
   ]
  },
  {
   "cell_type": "code",
   "execution_count": 92,
   "metadata": {},
   "outputs": [],
   "source": [
    "from sklearn.model_selection import train_test_split\n",
    "\n",
    "X_train, X_test, y_train, y_test = train_test_split(x_pca, target, test_size=0.2, random_state=77)"
   ]
  },
  {
   "cell_type": "code",
   "execution_count": 87,
   "metadata": {},
   "outputs": [
    {
     "data": {
      "text/plain": [
       "0.6767078775959509"
      ]
     },
     "execution_count": 87,
     "metadata": {},
     "output_type": "execute_result"
    }
   ],
   "source": [
    "reg = LinearRegression()\n",
    "reg.fit(X_train, y_train)\n",
    "reg.score(X_test,y_test)"
   ]
  },
  {
   "cell_type": "code",
   "execution_count": 96,
   "metadata": {},
   "outputs": [
    {
     "data": {
      "text/plain": [
       "0.7384183534130448"
      ]
     },
     "execution_count": 96,
     "metadata": {},
     "output_type": "execute_result"
    }
   ],
   "source": [
    "X_train, X_test, y_train, y_test = train_test_split(data, target, test_size=0.2, random_state=77)\n",
    "\n",
    "reg = LinearRegression()\n",
    "reg.fit(X_train, y_train)\n",
    "reg.score(X_test,y_test)"
   ]
  },
  {
   "cell_type": "code",
   "execution_count": 98,
   "metadata": {},
   "outputs": [
    {
     "data": {
      "image/png": "[encoded data removed]",
      "text/plain": [
       "<Figure size 432x288 with 1 Axes>"
      ]
     },
     "metadata": {
      "needs_background": "light"
     },
     "output_type": "display_data"
    }
   ],
   "source": [
    "from sklearn.ensemble import GradientBoostingRegressor\n",
    "r = []\n",
    "for i in range(80,220,10):\n",
    "    gbc = GradientBoostingRegressor(n_estimators = i, learning_rate = 0.1, max_depth = 4, random_state = 5)\n",
    "    gbc.fit(X_train,y_train)\n",
    "    r.append(gbc.score(X_test, y_test))\n",
    "plt.plot(range(80,220,10), r)\n",
    "plt.show()"
   ]
  },
  {
   "cell_type": "code",
   "execution_count": 99,
   "metadata": {},
   "outputs": [
    {
     "data": {
      "text/plain": [
       "0.9078032121600179"
      ]
     },
     "execution_count": 99,
     "metadata": {},
     "output_type": "execute_result"
    }
   ],
   "source": [
    "gbc = GradientBoostingRegressor(n_estimators = 250, learning_rate = 0.3, max_depth = 4, random_state = 5)\n",
    "gbc.fit(X_train,y_train)\n",
    "gbc.score(X_test, y_test)"
   ]
  },
  {
   "cell_type": "code",
   "execution_count": 100,
   "metadata": {},
   "outputs": [
    {
     "data": {
      "text/html": [
       "<div>\n",
       "<style scoped>\n",
       "    .dataframe tbody tr th:only-of-type {\n",
       "        vertical-align: middle;\n",
       "    }\n",
       "\n",
       "    .dataframe tbody tr th {\n",
       "        vertical-align: top;\n",
       "    }\n",
       "\n",
       "    .dataframe thead th {\n",
       "        text-align: right;\n",
       "    }\n",
       "</style>\n",
       "<table border=\"1\" class=\"dataframe\">\n",
       "  <thead>\n",
       "    <tr style=\"text-align: right;\">\n",
       "      <th></th>\n",
       "      <th>feature1</th>\n",
       "      <th>feature2</th>\n",
       "      <th>feature3</th>\n",
       "      <th>feature4</th>\n",
       "      <th>feature5</th>\n",
       "      <th>feature6</th>\n",
       "      <th>feature7</th>\n",
       "      <th>feature8</th>\n",
       "      <th>feature9</th>\n",
       "      <th>feature10</th>\n",
       "      <th>...</th>\n",
       "      <th>feature72</th>\n",
       "      <th>feature73</th>\n",
       "      <th>feature74</th>\n",
       "      <th>feature75</th>\n",
       "      <th>feature76</th>\n",
       "      <th>feature77</th>\n",
       "      <th>feature78</th>\n",
       "      <th>feature79</th>\n",
       "      <th>feature80</th>\n",
       "      <th>feature81</th>\n",
       "    </tr>\n",
       "  </thead>\n",
       "  <tbody>\n",
       "    <tr>\n",
       "      <th>0</th>\n",
       "      <td>5</td>\n",
       "      <td>82.324574</td>\n",
       "      <td>88.533544</td>\n",
       "      <td>64.110667</td>\n",
       "      <td>72.640059</td>\n",
       "      <td>1.418486</td>\n",
       "      <td>1.179961</td>\n",
       "      <td>122.90607</td>\n",
       "      <td>38.757614</td>\n",
       "      <td>48.331141</td>\n",
       "      <td>...</td>\n",
       "      <td>2.4</td>\n",
       "      <td>2.151429</td>\n",
       "      <td>2.352158</td>\n",
       "      <td>2.126646</td>\n",
       "      <td>1.589027</td>\n",
       "      <td>1.361750</td>\n",
       "      <td>1</td>\n",
       "      <td>0.814286</td>\n",
       "      <td>0.489898</td>\n",
       "      <td>0.358466</td>\n",
       "    </tr>\n",
       "    <tr>\n",
       "      <th>1</th>\n",
       "      <td>4</td>\n",
       "      <td>115.438500</td>\n",
       "      <td>90.562624</td>\n",
       "      <td>107.211420</td>\n",
       "      <td>88.713057</td>\n",
       "      <td>1.308571</td>\n",
       "      <td>1.157701</td>\n",
       "      <td>122.45400</td>\n",
       "      <td>37.743936</td>\n",
       "      <td>47.516249</td>\n",
       "      <td>...</td>\n",
       "      <td>4.0</td>\n",
       "      <td>3.632000</td>\n",
       "      <td>3.722419</td>\n",
       "      <td>3.504866</td>\n",
       "      <td>1.320888</td>\n",
       "      <td>1.064083</td>\n",
       "      <td>4</td>\n",
       "      <td>1.504000</td>\n",
       "      <td>1.414214</td>\n",
       "      <td>0.853567</td>\n",
       "    </tr>\n",
       "    <tr>\n",
       "      <th>2</th>\n",
       "      <td>4</td>\n",
       "      <td>92.290900</td>\n",
       "      <td>83.842290</td>\n",
       "      <td>87.295606</td>\n",
       "      <td>79.318618</td>\n",
       "      <td>1.331889</td>\n",
       "      <td>1.300022</td>\n",
       "      <td>81.48200</td>\n",
       "      <td>20.872340</td>\n",
       "      <td>30.558629</td>\n",
       "      <td>...</td>\n",
       "      <td>4.0</td>\n",
       "      <td>3.870000</td>\n",
       "      <td>3.662842</td>\n",
       "      <td>3.611896</td>\n",
       "      <td>1.305096</td>\n",
       "      <td>1.193165</td>\n",
       "      <td>4</td>\n",
       "      <td>1.600000</td>\n",
       "      <td>1.581139</td>\n",
       "      <td>1.361286</td>\n",
       "    </tr>\n",
       "    <tr>\n",
       "      <th>3</th>\n",
       "      <td>5</td>\n",
       "      <td>72.324650</td>\n",
       "      <td>51.227894</td>\n",
       "      <td>58.637102</td>\n",
       "      <td>34.924853</td>\n",
       "      <td>1.444612</td>\n",
       "      <td>1.306314</td>\n",
       "      <td>121.32760</td>\n",
       "      <td>20.998358</td>\n",
       "      <td>40.053512</td>\n",
       "      <td>...</td>\n",
       "      <td>2.4</td>\n",
       "      <td>2.079231</td>\n",
       "      <td>2.352158</td>\n",
       "      <td>2.065294</td>\n",
       "      <td>1.589027</td>\n",
       "      <td>1.219461</td>\n",
       "      <td>1</td>\n",
       "      <td>1.070000</td>\n",
       "      <td>0.489898</td>\n",
       "      <td>0.270099</td>\n",
       "    </tr>\n",
       "    <tr>\n",
       "      <th>4</th>\n",
       "      <td>4</td>\n",
       "      <td>90.142263</td>\n",
       "      <td>58.462879</td>\n",
       "      <td>66.935044</td>\n",
       "      <td>36.272055</td>\n",
       "      <td>1.178649</td>\n",
       "      <td>1.019134</td>\n",
       "      <td>124.90825</td>\n",
       "      <td>34.237393</td>\n",
       "      <td>53.101375</td>\n",
       "      <td>...</td>\n",
       "      <td>3.0</td>\n",
       "      <td>2.571429</td>\n",
       "      <td>2.828427</td>\n",
       "      <td>2.438027</td>\n",
       "      <td>1.329661</td>\n",
       "      <td>1.083356</td>\n",
       "      <td>2</td>\n",
       "      <td>1.057143</td>\n",
       "      <td>1.000000</td>\n",
       "      <td>0.903508</td>\n",
       "    </tr>\n",
       "  </tbody>\n",
       "</table>\n",
       "<p>5 rows × 81 columns</p>\n",
       "</div>"
      ],
      "text/plain": [
       "   feature1    feature2   feature3    feature4   feature5  feature6  feature7  \\\n",
       "0         5   82.324574  88.533544   64.110667  72.640059  1.418486  1.179961   \n",
       "1         4  115.438500  90.562624  107.211420  88.713057  1.308571  1.157701   \n",
       "2         4   92.290900  83.842290   87.295606  79.318618  1.331889  1.300022   \n",
       "3         5   72.324650  51.227894   58.637102  34.924853  1.444612  1.306314   \n",
       "4         4   90.142263  58.462879   66.935044  36.272055  1.178649  1.019134   \n",
       "\n",
       "    feature8   feature9  feature10    ...      feature72  feature73  \\\n",
       "0  122.90607  38.757614  48.331141    ...            2.4   2.151429   \n",
       "1  122.45400  37.743936  47.516249    ...            4.0   3.632000   \n",
       "2   81.48200  20.872340  30.558629    ...            4.0   3.870000   \n",
       "3  121.32760  20.998358  40.053512    ...            2.4   2.079231   \n",
       "4  124.90825  34.237393  53.101375    ...            3.0   2.571429   \n",
       "\n",
       "   feature74  feature75  feature76  feature77  feature78  feature79  \\\n",
       "0   2.352158   2.126646   1.589027   1.361750          1   0.814286   \n",
       "1   3.722419   3.504866   1.320888   1.064083          4   1.504000   \n",
       "2   3.662842   3.611896   1.305096   1.193165          4   1.600000   \n",
       "3   2.352158   2.065294   1.589027   1.219461          1   1.070000   \n",
       "4   2.828427   2.438027   1.329661   1.083356          2   1.057143   \n",
       "\n",
       "   feature80  feature81  \n",
       "0   0.489898   0.358466  \n",
       "1   1.414214   0.853567  \n",
       "2   1.581139   1.361286  \n",
       "3   0.489898   0.270099  \n",
       "4   1.000000   0.903508  \n",
       "\n",
       "[5 rows x 81 columns]"
      ]
     },
     "execution_count": 100,
     "metadata": {},
     "output_type": "execute_result"
    }
   ],
   "source": [
    "test = pd.read_csv('D:\\\\DataMining\\\\critical_temperature\\\\test.csv')\n",
    "test.head()"
   ]
  },
  {
   "cell_type": "code",
   "execution_count": 145,
   "metadata": {},
   "outputs": [
    {
     "data": {
      "text/plain": [
       "GradientBoostingRegressor(learning_rate=0.3, max_depth=5, n_estimators=250,\n",
       "                          random_state=12)"
      ]
     },
     "execution_count": 145,
     "metadata": {},
     "output_type": "execute_result"
    }
   ],
   "source": [
    "#data = pd.read_csv('D:\\\\DataMining\\\\critical_temperature\\\\train.csv')\n",
    "\n",
    "grad_boost = GradientBoostingRegressor(n_estimators = 250, learning_rate = 0.3, max_depth = 5, random_state = 12)\n",
    "grad_boost.fit(data,target)"
   ]
  },
  {
   "cell_type": "code",
   "execution_count": 146,
   "metadata": {},
   "outputs": [
    {
     "data": {
      "text/plain": [
       "array([51.65657107,  5.58073134, 21.80197056, ..., 33.78433218,\n",
       "       26.39375616,  7.98745161])"
      ]
     },
     "execution_count": 146,
     "metadata": {},
     "output_type": "execute_result"
    }
   ],
   "source": [
    "res_grad_boost = grad_boost.predict(test)\n",
    "res_grad_boost"
   ]
  },
  {
   "cell_type": "code",
   "execution_count": 107,
   "metadata": {},
   "outputs": [],
   "source": [
    "del data_formula['material']\n"
   ]
  },
  {
   "cell_type": "code",
   "execution_count": 113,
   "metadata": {},
   "outputs": [
    {
     "name": "stdout",
     "output_type": "stream",
     "text": [
      "X explained ratio:  [0.17901851 0.14820924 0.13229471 0.1051311  0.08411902 0.04261974\n",
      " 0.03993664 0.03424972 0.03100034 0.02548892 0.02310997 0.01484147\n",
      " 0.01338722 0.01283221 0.01071229 0.00810662 0.00739277 0.00682492\n",
      " 0.00667424 0.00587838 0.00550182 0.00525296 0.00511743 0.00496953\n",
      " 0.00478069 0.00467444 0.00419908 0.00387246 0.00359389 0.0027695 ]\n"
     ]
    },
    {
     "data": {
      "image/png": "[encoded data removed]",
      "text/plain": [
       "<Figure size 432x288 with 1 Axes>"
      ]
     },
     "metadata": {
      "needs_background": "light"
     },
     "output_type": "display_data"
    }
   ],
   "source": [
    "pca = PCA(svd_solver='full', n_components = 30)\n",
    "pca.fit(data_formula)\n",
    "print('X explained ratio: ', pca.explained_variance_ratio_)\n",
    "\n",
    "var_cumsum = np.cumsum(pca.explained_variance_ratio_)\n",
    "plt.plot(range(0, 31), np.append(0, var_cumsum), marker='o', color=\"red\")\n",
    "plt.grid()\n",
    "plt.show()"
   ]
  },
  {
   "cell_type": "code",
   "execution_count": 135,
   "metadata": {},
   "outputs": [
    {
     "data": {
      "text/html": [
       "<div>\n",
       "<style scoped>\n",
       "    .dataframe tbody tr th:only-of-type {\n",
       "        vertical-align: middle;\n",
       "    }\n",
       "\n",
       "    .dataframe tbody tr th {\n",
       "        vertical-align: top;\n",
       "    }\n",
       "\n",
       "    .dataframe thead th {\n",
       "        text-align: right;\n",
       "    }\n",
       "</style>\n",
       "<table border=\"1\" class=\"dataframe\">\n",
       "  <thead>\n",
       "    <tr style=\"text-align: right;\">\n",
       "      <th></th>\n",
       "      <th>feature1</th>\n",
       "      <th>feature2</th>\n",
       "      <th>feature3</th>\n",
       "      <th>feature4</th>\n",
       "      <th>feature5</th>\n",
       "      <th>feature6</th>\n",
       "      <th>feature7</th>\n",
       "      <th>feature8</th>\n",
       "      <th>feature9</th>\n",
       "      <th>feature10</th>\n",
       "      <th>...</th>\n",
       "      <th>20</th>\n",
       "      <th>21</th>\n",
       "      <th>22</th>\n",
       "      <th>23</th>\n",
       "      <th>24</th>\n",
       "      <th>25</th>\n",
       "      <th>26</th>\n",
       "      <th>27</th>\n",
       "      <th>28</th>\n",
       "      <th>29</th>\n",
       "    </tr>\n",
       "  </thead>\n",
       "  <tbody>\n",
       "    <tr>\n",
       "      <th>16995</th>\n",
       "      <td>3</td>\n",
       "      <td>72.816957</td>\n",
       "      <td>57.907791</td>\n",
       "      <td>52.075936</td>\n",
       "      <td>36.128407</td>\n",
       "      <td>0.838545</td>\n",
       "      <td>0.840863</td>\n",
       "      <td>122.906070</td>\n",
       "      <td>30.609277</td>\n",
       "      <td>50.602625</td>\n",
       "      <td>...</td>\n",
       "      <td>-0.054036</td>\n",
       "      <td>-0.013526</td>\n",
       "      <td>0.056646</td>\n",
       "      <td>-0.005662</td>\n",
       "      <td>-0.059025</td>\n",
       "      <td>0.031030</td>\n",
       "      <td>-0.064164</td>\n",
       "      <td>-0.005871</td>\n",
       "      <td>-0.063721</td>\n",
       "      <td>0.056489</td>\n",
       "    </tr>\n",
       "    <tr>\n",
       "      <th>16996</th>\n",
       "      <td>6</td>\n",
       "      <td>70.527467</td>\n",
       "      <td>91.385775</td>\n",
       "      <td>41.594713</td>\n",
       "      <td>59.041700</td>\n",
       "      <td>1.373685</td>\n",
       "      <td>1.177703</td>\n",
       "      <td>202.039400</td>\n",
       "      <td>51.551000</td>\n",
       "      <td>67.643464</td>\n",
       "      <td>...</td>\n",
       "      <td>0.135101</td>\n",
       "      <td>0.102677</td>\n",
       "      <td>0.000218</td>\n",
       "      <td>-0.315260</td>\n",
       "      <td>0.058467</td>\n",
       "      <td>-0.101172</td>\n",
       "      <td>-0.038634</td>\n",
       "      <td>-0.022904</td>\n",
       "      <td>-0.233174</td>\n",
       "      <td>-0.174005</td>\n",
       "    </tr>\n",
       "    <tr>\n",
       "      <th>16997</th>\n",
       "      <td>2</td>\n",
       "      <td>145.650000</td>\n",
       "      <td>181.314000</td>\n",
       "      <td>138.659822</td>\n",
       "      <td>178.571988</td>\n",
       "      <td>0.645546</td>\n",
       "      <td>0.215090</td>\n",
       "      <td>89.160000</td>\n",
       "      <td>161.100000</td>\n",
       "      <td>44.580000</td>\n",
       "      <td>...</td>\n",
       "      <td>-0.094721</td>\n",
       "      <td>0.085620</td>\n",
       "      <td>0.100382</td>\n",
       "      <td>0.030392</td>\n",
       "      <td>-0.034187</td>\n",
       "      <td>-0.027923</td>\n",
       "      <td>-0.054756</td>\n",
       "      <td>-0.012731</td>\n",
       "      <td>-0.141310</td>\n",
       "      <td>0.000455</td>\n",
       "    </tr>\n",
       "    <tr>\n",
       "      <th>16998</th>\n",
       "      <td>4</td>\n",
       "      <td>91.808100</td>\n",
       "      <td>56.820735</td>\n",
       "      <td>67.689303</td>\n",
       "      <td>37.015522</td>\n",
       "      <td>1.173514</td>\n",
       "      <td>1.329216</td>\n",
       "      <td>134.360600</td>\n",
       "      <td>13.116892</td>\n",
       "      <td>54.877137</td>\n",
       "      <td>...</td>\n",
       "      <td>-0.040646</td>\n",
       "      <td>-0.047712</td>\n",
       "      <td>0.021925</td>\n",
       "      <td>0.069647</td>\n",
       "      <td>-0.101695</td>\n",
       "      <td>0.004013</td>\n",
       "      <td>-0.003604</td>\n",
       "      <td>-0.007464</td>\n",
       "      <td>0.013496</td>\n",
       "      <td>-0.002248</td>\n",
       "    </tr>\n",
       "    <tr>\n",
       "      <th>16999</th>\n",
       "      <td>5</td>\n",
       "      <td>76.392968</td>\n",
       "      <td>79.861421</td>\n",
       "      <td>71.435829</td>\n",
       "      <td>75.311863</td>\n",
       "      <td>1.535661</td>\n",
       "      <td>1.183003</td>\n",
       "      <td>82.388955</td>\n",
       "      <td>29.770863</td>\n",
       "      <td>31.312929</td>\n",
       "      <td>...</td>\n",
       "      <td>-0.042164</td>\n",
       "      <td>-0.013988</td>\n",
       "      <td>0.088087</td>\n",
       "      <td>0.047275</td>\n",
       "      <td>-0.181950</td>\n",
       "      <td>0.013861</td>\n",
       "      <td>-0.113596</td>\n",
       "      <td>-0.018871</td>\n",
       "      <td>-0.121488</td>\n",
       "      <td>0.041168</td>\n",
       "    </tr>\n",
       "  </tbody>\n",
       "</table>\n",
       "<p>5 rows × 111 columns</p>\n",
       "</div>"
      ],
      "text/plain": [
       "       feature1    feature2    feature3    feature4    feature5  feature6  \\\n",
       "16995         3   72.816957   57.907791   52.075936   36.128407  0.838545   \n",
       "16996         6   70.527467   91.385775   41.594713   59.041700  1.373685   \n",
       "16997         2  145.650000  181.314000  138.659822  178.571988  0.645546   \n",
       "16998         4   91.808100   56.820735   67.689303   37.015522  1.173514   \n",
       "16999         5   76.392968   79.861421   71.435829   75.311863  1.535661   \n",
       "\n",
       "       feature7    feature8    feature9  feature10    ...           20  \\\n",
       "16995  0.840863  122.906070   30.609277  50.602625    ...    -0.054036   \n",
       "16996  1.177703  202.039400   51.551000  67.643464    ...     0.135101   \n",
       "16997  0.215090   89.160000  161.100000  44.580000    ...    -0.094721   \n",
       "16998  1.329216  134.360600   13.116892  54.877137    ...    -0.040646   \n",
       "16999  1.183003   82.388955   29.770863  31.312929    ...    -0.042164   \n",
       "\n",
       "             21        22        23        24        25        26        27  \\\n",
       "16995 -0.013526  0.056646 -0.005662 -0.059025  0.031030 -0.064164 -0.005871   \n",
       "16996  0.102677  0.000218 -0.315260  0.058467 -0.101172 -0.038634 -0.022904   \n",
       "16997  0.085620  0.100382  0.030392 -0.034187 -0.027923 -0.054756 -0.012731   \n",
       "16998 -0.047712  0.021925  0.069647 -0.101695  0.004013 -0.003604 -0.007464   \n",
       "16999 -0.013988  0.088087  0.047275 -0.181950  0.013861 -0.113596 -0.018871   \n",
       "\n",
       "             28        29  \n",
       "16995 -0.063721  0.056489  \n",
       "16996 -0.233174 -0.174005  \n",
       "16997 -0.141310  0.000455  \n",
       "16998  0.013496 -0.002248  \n",
       "16999 -0.121488  0.041168  \n",
       "\n",
       "[5 rows x 111 columns]"
      ]
     },
     "execution_count": 135,
     "metadata": {},
     "output_type": "execute_result"
    }
   ],
   "source": [
    "data_ = pd.read_csv('D:\\\\DataMining\\\\critical_temperature\\\\train.csv')\n",
    "del data_['critical_temperature']\n",
    "for_join = pd.DataFrame(pca.transform(data_formula), columns=[str(i) for i in range(30)])\n",
    "data_ = pd.DataFrame(data_.join(for_join))\n",
    "\n",
    "data_.tail()"
   ]
  },
  {
   "cell_type": "code",
   "execution_count": 141,
   "metadata": {},
   "outputs": [
    {
     "data": {
      "text/plain": [
       "RandomForestRegressor(n_estimators=250, random_state=12)"
      ]
     },
     "execution_count": 141,
     "metadata": {},
     "output_type": "execute_result"
    }
   ],
   "source": [
    "from sklearn.ensemble import RandomForestRegressor\n",
    "\n",
    "gbc = RandomForestRegressor(n_estimators = 250, random_state = 12)\n",
    "gbc.fit(data_,target)"
   ]
  },
  {
   "cell_type": "code",
   "execution_count": 142,
   "metadata": {},
   "outputs": [
    {
     "data": {
      "text/plain": [
       "array([51.73260857,  3.06586667, 15.07744   , ..., 33.6628784 ,\n",
       "       27.14608   ,  6.56449124])"
      ]
     },
     "execution_count": 142,
     "metadata": {},
     "output_type": "execute_result"
    }
   ],
   "source": [
    "data_formula_test = pd.read_csv('D:\\\\DataMining\\\\critical_temperature\\\\formula_test.csv')\n",
    "del data_formula_test['material']\n",
    "for_join_test = pd.DataFrame(pca.transform(data_formula_test), columns=[str(i) for i in range(30)])\n",
    "test_ =  pd.DataFrame(test.join(for_join_test))\n",
    "res = gbc.predict(test_)\n",
    "res"
   ]
  },
  {
   "cell_type": "code",
   "execution_count": 147,
   "metadata": {},
   "outputs": [],
   "source": [
    "res = (res+res_grad_boost)/2"
   ]
  },
  {
   "cell_type": "code",
   "execution_count": 148,
   "metadata": {},
   "outputs": [],
   "source": [
    "import csv\n",
    "\n",
    "res_file = open('D:\\\\DataMining\\\\critical_temperature\\\\answer.csv', \"w\",newline='') \n",
    "writer = csv.writer(res_file, delimiter =',')\n",
    "for answer in res:\n",
    "    writer.writerow([answer])\n",
    "res_file.close()"
   ]
  },
  {
   "cell_type": "code",
   "execution_count": null,
   "metadata": {},
   "outputs": [],
   "source": []
  }
 ],
 "metadata": {
  "kernelspec": {
   "display_name": "Python 3",
   "language": "python",
   "name": "python3"
  },
  "language_info": {
   "codemirror_mode": {
    "name": "ipython",
    "version": 3
   },
   "file_extension": ".py",
   "mimetype": "text/x-python",
   "name": "python",
   "nbconvert_exporter": "python",
   "pygments_lexer": "ipython3",
   "version": "3.6.7"
  }
 },
 "nbformat": 4,
 "nbformat_minor": 2
}
